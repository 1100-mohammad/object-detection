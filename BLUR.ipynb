{
 "cells": [
  {
   "cell_type": "code",
   "execution_count": 1,
   "id": "05384a8c",
   "metadata": {},
   "outputs": [],
   "source": [
    "import cv2"
   ]
  },
  {
   "cell_type": "code",
   "execution_count": 2,
   "id": "e59fa7ad",
   "metadata": {},
   "outputs": [],
   "source": [
    "img = cv2.imread(\"pic.jpg\")"
   ]
  },
  {
   "cell_type": "code",
   "execution_count": 13,
   "id": "d7427e1e",
   "metadata": {},
   "outputs": [],
   "source": [
    "blur = cv2.blur(img,(5,5))\n",
    "mblur = cv2.medianBlur(img,5)\n",
    "new = cv2.GaussianBlur(img,(5,5),8)\n",
    "new2 = PAS"
   ]
  },
  {
   "cell_type": "code",
   "execution_count": 14,
   "id": "7de392ad",
   "metadata": {},
   "outputs": [],
   "source": [
    "#cv2.imshow(\"img\",img)\n",
    "#cv2.imshow(\"blur\",blur)\n",
    "#cv2.imshow(\"mblur\",mblur)\n",
    "cv2.imshow(\"new\",new)\n",
    "\n",
    "cv2.waitKey(0)\n",
    "cv2.destroyAllWindows()"
   ]
  },
  {
   "cell_type": "code",
   "execution_count": null,
   "id": "bc61c487",
   "metadata": {},
   "outputs": [],
   "source": []
  }
 ],
 "metadata": {
  "kernelspec": {
   "display_name": "Python 3 (ipykernel)",
   "language": "python",
   "name": "python3"
  },
  "language_info": {
   "codemirror_mode": {
    "name": "ipython",
    "version": 3
   },
   "file_extension": ".py",
   "mimetype": "text/x-python",
   "name": "python",
   "nbconvert_exporter": "python",
   "pygments_lexer": "ipython3",
   "version": "3.9.7"
  }
 },
 "nbformat": 4,
 "nbformat_minor": 5
}
